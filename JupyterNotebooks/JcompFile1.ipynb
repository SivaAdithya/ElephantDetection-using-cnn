{
 "cells": [
  {
   "cell_type": "code",
   "execution_count": 1,
   "id": "569a3c7a",
   "metadata": {},
   "outputs": [],
   "source": [
    "import tensorflow as tf\n",
    "import numpy as np\n",
    "from tensorflow import keras\n",
    "from keras.models import Model\n",
    "from keras.models import Sequential\n",
    "from keras.layers import Dense, Flatten, BatchNormalization, GlobalAveragePooling2D, Conv2D, Input, MaxPooling2D, Dropout\n",
    "from keras.preprocessing.image import ImageDataGenerator\n",
    "from keras.applications.resnet import ResNet50"
   ]
  },
  {
   "cell_type": "code",
   "execution_count": 2,
   "id": "d154649c",
   "metadata": {},
   "outputs": [],
   "source": [
    "model = keras.models.load_model('mobnet_model_3.h5')"
   ]
  },
  {
   "cell_type": "code",
   "execution_count": 3,
   "id": "e7e59a23",
   "metadata": {},
   "outputs": [],
   "source": [
    "####################Extracting Frames##################################"
   ]
  },
  {
   "cell_type": "code",
   "execution_count": null,
   "id": "c7482478",
   "metadata": {},
   "outputs": [],
   "source": [
    "import cv2\n",
    "import os\n",
    "  \n",
    "cam = cv2.VideoCapture(\"C:/Users/Siva/Documents/VideoAnalytics/test/safe.mp4\")\n",
    "currentframe = 0\n",
    "  \n",
    "while(True):\n",
    "    ret,frame = cam.read()\n",
    "    if ret:\n",
    "        name = './check/test_pictures/frame' + str(currentframe) + '.jpg'\n",
    "        #print ('Creating...' + name)\n",
    "        cv2.imwrite(name, frame)\n",
    "        currentframe += 1\n",
    "    else:\n",
    "        break\n",
    "print(\"Key frames extracted\")\n",
    "  "
   ]
  },
  {
   "cell_type": "code",
   "execution_count": 4,
   "id": "b4ee2afd",
   "metadata": {},
   "outputs": [
    {
     "name": "stdout",
     "output_type": "stream",
     "text": [
      "Found 230 images belonging to 1 classes.\n"
     ]
    }
   ],
   "source": [
    "data_dir = \"C:/Users/Siva/Documents/VideoAnalytics/check\"\n",
    "datagen = ImageDataGenerator(rescale=1./255)\n",
    "data_generator = datagen.flow_from_directory(\n",
    "        data_dir,  \n",
    "        target_size=(224,224),  \n",
    "        batch_size=1)"
   ]
  },
  {
   "cell_type": "code",
   "execution_count": 5,
   "id": "41495420",
   "metadata": {},
   "outputs": [],
   "source": [
    "############################Predicting#############################"
   ]
  },
  {
   "cell_type": "code",
   "execution_count": 6,
   "id": "bd95446e",
   "metadata": {},
   "outputs": [
    {
     "name": "stdout",
     "output_type": "stream",
     "text": [
      "230/230 [==============================] - 28s 88ms/step\n"
     ]
    }
   ],
   "source": [
    "pred = model.predict(data_generator)"
   ]
  },
  {
   "cell_type": "code",
   "execution_count": 7,
   "id": "e25ab6f4",
   "metadata": {},
   "outputs": [
    {
     "name": "stdout",
     "output_type": "stream",
     "text": [
      "alert\n"
     ]
    }
   ],
   "source": [
    "alt,sf = 0,0\n",
    "mn = 24\n",
    "res = {0:'alert',1:'safe'}\n",
    "for i in pred:\n",
    "    if(i<0.5):\n",
    "        alt = alt+1\n",
    "    else:\n",
    "        sf = sf+1\n",
    "if(alt<0 and sf<0):\n",
    "    print(\"Insuficient frames\")\n",
    "else:\n",
    "    if(alt>sf):\n",
    "        print(res[0])\n",
    "        val = 0\n",
    "    else:\n",
    "        print(res[1])\n",
    "        val = 1"
   ]
  },
  {
   "cell_type": "code",
   "execution_count": 8,
   "id": "f02cf33d",
   "metadata": {},
   "outputs": [
    {
     "name": "stdout",
     "output_type": "stream",
     "text": [
      "99 131\n"
     ]
    }
   ],
   "source": [
    "print(sf,alt)"
   ]
  },
  {
   "cell_type": "code",
   "execution_count": 9,
   "id": "57710931",
   "metadata": {},
   "outputs": [],
   "source": [
    "import pyttsx3\n",
    "engine = pyttsx3.init()\n",
    "import time\n",
    "import threading"
   ]
  },
  {
   "cell_type": "code",
   "execution_count": 10,
   "id": "d1994cce",
   "metadata": {},
   "outputs": [
    {
     "name": "stdout",
     "output_type": "stream",
     "text": [
      "Alert\n",
      "Alert\n",
      "Alert\n",
      "Alert\n",
      "Alert\n",
      "Alert\n",
      "Alert\n",
      "Alert\n",
      "Alert\n",
      "Alert\n",
      "Alert\n",
      "Alert\n",
      "Alert\n",
      "Alert\n",
      "Alert\n",
      "Alert\n",
      "Alert\n",
      "Alert\n",
      "Press a key \n",
      "\n",
      "Alert\n",
      "Press any key to stop \n",
      "The while loop is now closing\n"
     ]
    }
   ],
   "source": [
    "flag = 1\n",
    "def normal():\n",
    "    global flag\n",
    "    while flag==1:\n",
    "        engine.say(\"Alert\")\n",
    "        print(\"Alert\")\n",
    "        time.sleep(2)\n",
    "        if flag==False:\n",
    "            print('The while loop is now closing')\n",
    "            quit()\n",
    "\n",
    "def get_input():\n",
    "    global flag\n",
    "    keystrk=input('Press a key \\n')\n",
    "    print('Press any key to stop', keystrk)\n",
    "    flag=False\n",
    "if(val==0):\n",
    "    n=threading.Thread(target=normal)\n",
    "    i=threading.Thread(target=get_input)\n",
    "    n.start()\n",
    "    i.start()\n",
    "    engine.runAndWait()"
   ]
  },
  {
   "cell_type": "code",
   "execution_count": null,
   "id": "d0c92982",
   "metadata": {},
   "outputs": [],
   "source": []
  },
  {
   "cell_type": "code",
   "execution_count": null,
   "id": "03244403",
   "metadata": {},
   "outputs": [],
   "source": []
  }
 ],
 "metadata": {
  "kernelspec": {
   "display_name": "Python 3 (ipykernel)",
   "language": "python",
   "name": "python3"
  },
  "language_info": {
   "codemirror_mode": {
    "name": "ipython",
    "version": 3
   },
   "file_extension": ".py",
   "mimetype": "text/x-python",
   "name": "python",
   "nbconvert_exporter": "python",
   "pygments_lexer": "ipython3",
   "version": "3.9.13"
  }
 },
 "nbformat": 4,
 "nbformat_minor": 5
}
